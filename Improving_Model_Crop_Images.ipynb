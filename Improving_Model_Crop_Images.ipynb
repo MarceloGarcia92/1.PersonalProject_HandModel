{
  "nbformat": 4,
  "nbformat_minor": 0,
  "metadata": {
    "accelerator": "GPU",
    "colab": {
      "name": "Improving_Model_Crop_Images_CO.ipynb",
      "provenance": [],
      "collapsed_sections": [],
      "include_colab_link": true
    },
    "kernelspec": {
      "display_name": "Python 3.8.5 64-bit",
      "name": "python38564bita17b6bd34ca54ba199159ae8b83961eb"
    },
    "language_info": {
      "codemirror_mode": {
        "name": "ipython",
        "version": 3
      },
      "file_extension": ".py",
      "mimetype": "text/x-python",
      "name": "python",
      "nbconvert_exporter": "python",
      "pygments_lexer": "ipython3",
      "version": "3.8.5-final"
    }
  },
  "cells": [
    {
      "cell_type": "markdown",
      "metadata": {
        "id": "view-in-github",
        "colab_type": "text"
      },
      "source": [
        "<a href=\"https://colab.research.google.com/github/MarceloGarcia92/1.PersonalProject_HandModel/blob/main/Improving_Model_Crop_Images.ipynb\" target=\"_parent\"><img src=\"https://colab.research.google.com/assets/colab-badge.svg\" alt=\"Open In Colab\"/></a>"
      ]
    },
    {
      "cell_type": "code",
      "metadata": {
        "id": "VPk8bE_oJIUR",
        "colab": {
          "base_uri": "https://localhost:8080/"
        },
        "outputId": "0af9ca22-f03a-4681-f8cb-8922781dbc2e"
      },
      "source": [
        "from google.colab import drive\n",
        "drive.mount('/content/drive')"
      ],
      "execution_count": 1,
      "outputs": [
        {
          "output_type": "stream",
          "text": [
            "Mounted at /content/drive\n"
          ],
          "name": "stdout"
        }
      ]
    },
    {
      "cell_type": "code",
      "metadata": {
        "id": "DrzgEZB4o20k"
      },
      "source": [
        "import tensorflow as tf\n",
        "import tensorflow_hub as hub\n",
        "from numpy import load\n",
        "from numpy import genfromtxt"
      ],
      "execution_count": 2,
      "outputs": []
    },
    {
      "cell_type": "code",
      "metadata": {
        "id": "67NpUGvA-1qP"
      },
      "source": [
        "Dimension = '3D'\n",
        "#Dimension = '2D'\n",
        "\n",
        "Size = '160x160'\n",
        "#Size = '240x240'\n",
        "\n",
        "#Label = 'Bones'\n",
        "Label = 'Joins'\n",
        "#Label = 'Fingers'\n",
        "\n",
        "Model = 'Transfer_Learning'\n",
        "#Model = 'Created'"
      ],
      "execution_count": 3,
      "outputs": []
    },
    {
      "cell_type": "code",
      "metadata": {
        "id": "TKdalYj0CbY9"
      },
      "source": [
        "Type_Model = Model + '_' + Dimension\n",
        "Type_Data = Dimension + '_' + Label\n",
        "\n",
        "path = '/content/drive/MyDrive/1. Personal Project - Marcelo Garcia/AI_Project/Hand/New_Points/' + Type_Data + '/' \n",
        "path_models = '/content/drive/MyDrive/1. Personal Project - Marcelo Garcia/AI_Project/Hand/Models/' + Type_Model + '/' + Label + '/'\n",
        "path_x = '/content/drive/MyDrive/1. Personal Project - Marcelo Garcia/AI_Project/Hand/New_Points/' + Type_Data + '/' "
      ],
      "execution_count": 4,
      "outputs": []
    },
    {
      "cell_type": "code",
      "metadata": {
        "id": "C-jTfvBDiGvQ"
      },
      "source": [
        "x_train = load(path + 'Train/' + 'x_train_' + Dimension + '_' + Size + '.npy')\n",
        "x_validate = load(path + 'Validate/' + 'x_validate_' + Dimension + '_' + Size + '.npy')\n",
        "x_test = load(path_x + 'Test/' +  'x_test_' + Dimension + '_' + Size + '.npy')"
      ],
      "execution_count": 8,
      "outputs": []
    },
    {
      "cell_type": "code",
      "metadata": {
        "colab": {
          "base_uri": "https://localhost:8080/"
        },
        "id": "1M2D__YyfTfB",
        "outputId": "10c5bf0e-5c2e-4e18-e47a-ba1645aa1b3b"
      },
      "source": [
        "print(x_train.shape, x_validate.shape, x_test.shape)"
      ],
      "execution_count": 9,
      "outputs": [
        {
          "output_type": "stream",
          "text": [
            "(11853, 160, 160, 3) (1482, 160, 160, 3) (1482, 160, 160, 3)\n"
          ],
          "name": "stdout"
        }
      ]
    },
    {
      "cell_type": "code",
      "metadata": {
        "id": "pIGXTyE6UJNH"
      },
      "source": [
        "class myCallback(tf.keras.callbacks.Callback):\n",
        "    def on_epoch_end(self, epoch, logs={}):\n",
        "        if(logs.get('accuracy')>=0.95):\n",
        "            print(\"\\nReached 95.0% accuracy so cancelling training!\")\n",
        "            self.model.stop_training = True\n",
        "\n",
        "Expected_performance_acc = myCallback()\n",
        "\n",
        "Monitor_val_acc = tf.keras.callbacks.EarlyStopping(monitor = 'accuracy', patience = 4)"
      ],
      "execution_count": null,
      "outputs": []
    },
    {
      "cell_type": "code",
      "metadata": {
        "id": "widSNk93mBxG"
      },
      "source": [
        "history_list = []\n",
        "saved_list = []\n",
        "\n",
        "def Improving(points, epochs, history_list, saved_list):\n",
        "\n",
        "  for point in range(0, len(points)):\n",
        "  \n",
        "    Selected_model = tf.keras.models.load_model(path_models  + points[point] + '_model_' + Type_Model + '_' + Size +'.h5', custom_objects = {'KerasLayer': hub.KerasLayer})\n",
        "    test = genfromtxt(path + 'Test/' + points[point] + '_Test_' + Dimension + '_' + Size + '.csv', delimiter=\",\")\n",
        "    train = genfromtxt(path + 'Train/' + points[point] + '_train_' + Dimension + '_' + Size + '.csv', delimiter=\",\")\n",
        "    validate = genfromtxt(path + 'Validate/' + points[point] + '_Validate_' + Dimension + '_' + Size + '.csv', delimiter=\",\")\n",
        "\n",
        "    [x_1, y_1] = Selected_model.evaluate(x_test, test,verbose=1)\n",
        "    print(points[point] + '_model Test Accuracy: ' + \"{:.0%}\".format(y_1))\n",
        "\n",
        "    Checkpoint = tf.keras.callbacks.ModelCheckpoint(filepath=path_models + 'Checkpoint_' + points[point] + '_model_' + Type_Model + '_' + Size +'.h5', save_weights_only=True, monitor='val_accuracy', mode='max', save_best_only=True)\n",
        "    new_model = Selected_model.fit(x_train, train, epochs=epochs, batch_size= 128, verbose= 1, validation_data=(x_validate, validate), callbacks = [Checkpoint]) #[monitor_val_acc, Expected_performance_acc]\n",
        "    [x_2, y_2] = Selected_model.evaluate(x_test, test,verbose=1)\n",
        "\n",
        "    if y_2 > y_1:\n",
        "      Selected_model.save(path_models  + points[point] + '_model_' + Type_Model + '_' + Size +'.h5')\n",
        "      history_list.append(points[point] + '_model save')\n",
        "      saved_list.append(points[point])\n",
        "      print(points[point] + '_model save', ', First Test Accuracy: '+ \"{:.0%}\".format(y_1), ', Second Test Accuracy: '+ \"{:.0%}\".format(y_2), ', Improved Accuracy: '+ \"{:.0%}\".format(y_2 - y_1))\n",
        "      \n",
        "    else:\n",
        "      history_list.append(points[point] + '_model not save')\n",
        "      print(points[point] + '_model not save', ', First Test Accuracy: '+ \"{:.0%}\".format(y_1), ', Second Test Accuracy: '+ \"{:.0%}\".format(y_2), ', Lost Accuracy: '+ \"{:.0%}\".format(y_2 - y_1))\n",
        "\n",
        "  return history_list, saved_list"
      ],
      "execution_count": 35,
      "outputs": []
    },
    {
      "cell_type": "code",
      "metadata": {
        "id": "moLoCBVHhZyl"
      },
      "source": [
        "list_joins = ['fourteen', 'fifteen']\n",
        "list_bones = ['Carpals_1', 'Metacarpals_1', 'Proxima_phalanges_1', 'Distal_phalanges_1', 'Metacarpals_2', 'Proxima_phalanges_2', 'Intermediate_phalanges_2', 'Distal_phalanges_2', 'Metacarpals_3', 'Proxima_phalanges_3', 'Intermediate_phalanges_3', 'Distal_phalanges_3', 'Metacarpals_4', 'Proxima_phalanges_4', 'Intermediate_phalanges_4', 'Distal_phalanges_4', 'Metacarpals_5', 'Proxima_phalanges_5', 'Intermediate_phalanges_5', 'Distal_phalanges_5']\n",
        "list_fingers = ['Thumb', 'Index_finger', 'Middle_finger', 'Ring_finger', 'Pinky']"
      ],
      "execution_count": 38,
      "outputs": []
    },
    {
      "cell_type": "code",
      "metadata": {
        "id": "CCP0Q6tG_SUP"
      },
      "source": [
        "['cero', 'one', 'two', 'three', 'four', 'five', 'six', 'seven', 'eight', 'nine', 'ten', 'eleven', 'twelve', 'thirteen', 'fourteen', 'fifteen', 'sixteen', 'seventeen', 'eighteen', 'nineteen', 'twenty']"
      ],
      "execution_count": null,
      "outputs": []
    },
    {
      "cell_type": "code",
      "metadata": {
        "id": "PPbaY8X7YBmM"
      },
      "source": [
        "Improving(list_joins, 50, history_list, saved_list)"
      ],
      "execution_count": null,
      "outputs": []
    }
  ]
}