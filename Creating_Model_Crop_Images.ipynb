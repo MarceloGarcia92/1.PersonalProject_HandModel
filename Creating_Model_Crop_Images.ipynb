{
  "nbformat": 4,
  "nbformat_minor": 0,
  "metadata": {
    "accelerator": "GPU",
    "colab": {
      "name": "Creating_Model_Crop_Images_CO.ipynb",
      "provenance": [],
      "collapsed_sections": [],
      "include_colab_link": true
    },
    "kernelspec": {
      "display_name": "Python 3.8.5 64-bit",
      "name": "python38564bita17b6bd34ca54ba199159ae8b83961eb"
    },
    "language_info": {
      "codemirror_mode": {
        "name": "ipython",
        "version": 3
      },
      "file_extension": ".py",
      "mimetype": "text/x-python",
      "name": "python",
      "nbconvert_exporter": "python",
      "pygments_lexer": "ipython3",
      "version": "3.8.5-final"
    }
  },
  "cells": [
    {
      "cell_type": "markdown",
      "metadata": {
        "id": "view-in-github",
        "colab_type": "text"
      },
      "source": [
        "<a href=\"https://colab.research.google.com/github/MarceloGarcia92/1.PersonalProject_HandModel/blob/main/Creating_Model_Crop_Images_CO.ipynb\" target=\"_parent\"><img src=\"https://colab.research.google.com/assets/colab-badge.svg\" alt=\"Open In Colab\"/></a>"
      ]
    },
    {
      "cell_type": "code",
      "metadata": {
        "colab": {
          "base_uri": "https://localhost:8080/"
        },
        "id": "VPk8bE_oJIUR",
        "outputId": "7d9633c8-637c-43c9-9017-0b0bf6849de2"
      },
      "source": [
        "from google.colab import drive\n",
        "drive.mount('/content/drive')"
      ],
      "execution_count": null,
      "outputs": [
        {
          "output_type": "stream",
          "text": [
            "Drive already mounted at /content/drive; to attempt to forcibly remount, call drive.mount(\"/content/drive\", force_remount=True).\n"
          ],
          "name": "stdout"
        }
      ]
    },
    {
      "cell_type": "code",
      "metadata": {
        "id": "XZ4ibVAU41KS"
      },
      "source": [
        "from numpy import load\n",
        "from numpy import genfromtxt"
      ],
      "execution_count": null,
      "outputs": []
    },
    {
      "cell_type": "code",
      "metadata": {
        "id": "fIunqSfp0gFt"
      },
      "source": [
        "Dimension = '3D'\n",
        "#Dimension = '2D'\n",
        "\n",
        "Size = '160x160'\n",
        "#Size = '240x240'\n",
        "\n",
        "#Label = 'Bones'\n",
        "Label = 'Joins'\n",
        "#Label = 'Fingers'\n",
        "\n",
        "Model = 'Transfer_Learning'\n",
        "#Model = 'Created'"
      ],
      "execution_count": null,
      "outputs": []
    },
    {
      "cell_type": "code",
      "metadata": {
        "id": "EWk7T-pzpJpu"
      },
      "source": [
        "Type_Model = Model + '_' + Dimension\n",
        "Type_Data = Dimension + '_' + Label\n",
        "\n",
        "path = '/content/drive/MyDrive/1. Personal Project - Marcelo Garcia/AI_Project/Hand/New_Points/' + Type_Data + '/' \n",
        "path_models = '/content/drive/MyDrive/1. Personal Project - Marcelo Garcia/AI_Project/Hand/Models/' + Type_Model + '/' \n",
        "path_x = '/content/drive/MyDrive/1. Personal Project - Marcelo Garcia/AI_Project/Hand/New_Points/3D_Joins/' "
      ],
      "execution_count": null,
      "outputs": []
    },
    {
      "cell_type": "code",
      "metadata": {
        "colab": {
          "base_uri": "https://localhost:8080/"
        },
        "id": "dgsdD3Q7JAQX",
        "outputId": "293697b8-4df4-4e87-fc0e-775513900d2e"
      },
      "source": [
        "from tensorflow.keras.applications.vgg19 import VGG19\n",
        "\n",
        "pre_trained_model = VGG19(input_shape = (160, 160, 3), \n",
        "                                include_top = False, \n",
        "                                weights = None)\n",
        "\n",
        "for layer in pre_trained_model.layers:\n",
        "    layer.trainable = True\n",
        "\n",
        "pre_trained_model.summary()"
      ],
      "execution_count": null,
      "outputs": [
        {
          "output_type": "stream",
          "text": [
            "Model: \"vgg19\"\n",
            "_________________________________________________________________\n",
            "Layer (type)                 Output Shape              Param #   \n",
            "=================================================================\n",
            "input_1 (InputLayer)         [(None, 160, 160, 3)]     0         \n",
            "_________________________________________________________________\n",
            "block1_conv1 (Conv2D)        (None, 160, 160, 64)      1792      \n",
            "_________________________________________________________________\n",
            "block1_conv2 (Conv2D)        (None, 160, 160, 64)      36928     \n",
            "_________________________________________________________________\n",
            "block1_pool (MaxPooling2D)   (None, 80, 80, 64)        0         \n",
            "_________________________________________________________________\n",
            "block2_conv1 (Conv2D)        (None, 80, 80, 128)       73856     \n",
            "_________________________________________________________________\n",
            "block2_conv2 (Conv2D)        (None, 80, 80, 128)       147584    \n",
            "_________________________________________________________________\n",
            "block2_pool (MaxPooling2D)   (None, 40, 40, 128)       0         \n",
            "_________________________________________________________________\n",
            "block3_conv1 (Conv2D)        (None, 40, 40, 256)       295168    \n",
            "_________________________________________________________________\n",
            "block3_conv2 (Conv2D)        (None, 40, 40, 256)       590080    \n",
            "_________________________________________________________________\n",
            "block3_conv3 (Conv2D)        (None, 40, 40, 256)       590080    \n",
            "_________________________________________________________________\n",
            "block3_conv4 (Conv2D)        (None, 40, 40, 256)       590080    \n",
            "_________________________________________________________________\n",
            "block3_pool (MaxPooling2D)   (None, 20, 20, 256)       0         \n",
            "_________________________________________________________________\n",
            "block4_conv1 (Conv2D)        (None, 20, 20, 512)       1180160   \n",
            "_________________________________________________________________\n",
            "block4_conv2 (Conv2D)        (None, 20, 20, 512)       2359808   \n",
            "_________________________________________________________________\n",
            "block4_conv3 (Conv2D)        (None, 20, 20, 512)       2359808   \n",
            "_________________________________________________________________\n",
            "block4_conv4 (Conv2D)        (None, 20, 20, 512)       2359808   \n",
            "_________________________________________________________________\n",
            "block4_pool (MaxPooling2D)   (None, 10, 10, 512)       0         \n",
            "_________________________________________________________________\n",
            "block5_conv1 (Conv2D)        (None, 10, 10, 512)       2359808   \n",
            "_________________________________________________________________\n",
            "block5_conv2 (Conv2D)        (None, 10, 10, 512)       2359808   \n",
            "_________________________________________________________________\n",
            "block5_conv3 (Conv2D)        (None, 10, 10, 512)       2359808   \n",
            "_________________________________________________________________\n",
            "block5_conv4 (Conv2D)        (None, 10, 10, 512)       2359808   \n",
            "_________________________________________________________________\n",
            "block5_pool (MaxPooling2D)   (None, 5, 5, 512)         0         \n",
            "=================================================================\n",
            "Total params: 20,024,384\n",
            "Trainable params: 20,024,384\n",
            "Non-trainable params: 0\n",
            "_________________________________________________________________\n"
          ],
          "name": "stdout"
        }
      ]
    },
    {
      "cell_type": "code",
      "metadata": {
        "id": "lvU58_VFUTLV"
      },
      "source": [
        "import tensorflow as tf"
      ],
      "execution_count": null,
      "outputs": []
    },
    {
      "cell_type": "code",
      "metadata": {
        "id": "pIGXTyE6UJNH"
      },
      "source": [
        "class myCallback(tf.keras.callbacks.Callback):\n",
        "    def on_epoch_end(self, epoch, logs={}):\n",
        "        if(logs.get('accuracy')>=0.95):\n",
        "            print(\"\\nReached 95.0% accuracy so cancelling training!\")\n",
        "            self.model.stop_training = True\n",
        "\n",
        "Expected_performance_acc = myCallback()\n",
        "monitor_val_acc = tf.keras.callbacks.EarlyStopping(monitor = 'accuracy', patience = 4)"
      ],
      "execution_count": null,
      "outputs": []
    },
    {
      "cell_type": "code",
      "metadata": {
        "id": "6u8gy2gTU7rg"
      },
      "source": [
        "last_layer = pre_trained_model.get_layer('block4_pool') \n",
        "#print('last layer output shape: ', last_layer.output_shape)\n",
        "last_output = last_layer.output"
      ],
      "execution_count": null,
      "outputs": []
    },
    {
      "cell_type": "code",
      "metadata": {
        "id": "IIfF5wTuUY5J"
      },
      "source": [
        "# Flatten the output layer to 1 dimension\n",
        "x = tf.keras.layers.Flatten()(last_output)\n",
        "# Add a fully connected layer with 1,024 hidden units and ReLU activation\n",
        "x = tf.keras.layers.Dense(1052, activation='relu')(x)\n",
        "# Add a dropout rate of 0.2\n",
        "x = tf.keras.layers.Dropout(0.2)(x)                 \n",
        "# Add a final sigmoid layer for classification\n",
        "x = tf.keras.layers.Dense(2, activation='linear')(x)     "
      ],
      "execution_count": null,
      "outputs": []
    },
    {
      "cell_type": "code",
      "metadata": {
        "id": "9Zoop8vtUs_z",
        "colab": {
          "base_uri": "https://localhost:8080/"
        },
        "outputId": "c466bf34-dbb9-404f-d6b5-f8c3e4dec49b"
      },
      "source": [
        "model = tf.keras.Model(pre_trained_model.input, x)\n",
        "model.summary()"
      ],
      "execution_count": null,
      "outputs": [
        {
          "output_type": "stream",
          "text": [
            "Model: \"model\"\n",
            "_________________________________________________________________\n",
            "Layer (type)                 Output Shape              Param #   \n",
            "=================================================================\n",
            "input_1 (InputLayer)         [(None, 160, 160, 3)]     0         \n",
            "_________________________________________________________________\n",
            "block1_conv1 (Conv2D)        (None, 160, 160, 64)      1792      \n",
            "_________________________________________________________________\n",
            "block1_conv2 (Conv2D)        (None, 160, 160, 64)      36928     \n",
            "_________________________________________________________________\n",
            "block1_pool (MaxPooling2D)   (None, 80, 80, 64)        0         \n",
            "_________________________________________________________________\n",
            "block2_conv1 (Conv2D)        (None, 80, 80, 128)       73856     \n",
            "_________________________________________________________________\n",
            "block2_conv2 (Conv2D)        (None, 80, 80, 128)       147584    \n",
            "_________________________________________________________________\n",
            "block2_pool (MaxPooling2D)   (None, 40, 40, 128)       0         \n",
            "_________________________________________________________________\n",
            "block3_conv1 (Conv2D)        (None, 40, 40, 256)       295168    \n",
            "_________________________________________________________________\n",
            "block3_conv2 (Conv2D)        (None, 40, 40, 256)       590080    \n",
            "_________________________________________________________________\n",
            "block3_conv3 (Conv2D)        (None, 40, 40, 256)       590080    \n",
            "_________________________________________________________________\n",
            "block3_conv4 (Conv2D)        (None, 40, 40, 256)       590080    \n",
            "_________________________________________________________________\n",
            "block3_pool (MaxPooling2D)   (None, 20, 20, 256)       0         \n",
            "_________________________________________________________________\n",
            "block4_conv1 (Conv2D)        (None, 20, 20, 512)       1180160   \n",
            "_________________________________________________________________\n",
            "block4_conv2 (Conv2D)        (None, 20, 20, 512)       2359808   \n",
            "_________________________________________________________________\n",
            "block4_conv3 (Conv2D)        (None, 20, 20, 512)       2359808   \n",
            "_________________________________________________________________\n",
            "block4_conv4 (Conv2D)        (None, 20, 20, 512)       2359808   \n",
            "_________________________________________________________________\n",
            "block4_pool (MaxPooling2D)   (None, 10, 10, 512)       0         \n",
            "_________________________________________________________________\n",
            "flatten (Flatten)            (None, 51200)             0         \n",
            "_________________________________________________________________\n",
            "dense (Dense)                (None, 1052)              53863452  \n",
            "_________________________________________________________________\n",
            "dropout (Dropout)            (None, 1052)              0         \n",
            "_________________________________________________________________\n",
            "dense_1 (Dense)              (None, 2)                 2106      \n",
            "=================================================================\n",
            "Total params: 64,450,710\n",
            "Trainable params: 64,450,710\n",
            "Non-trainable params: 0\n",
            "_________________________________________________________________\n"
          ],
          "name": "stdout"
        }
      ]
    },
    {
      "cell_type": "code",
      "metadata": {
        "id": "Irm9hnOoJAQZ"
      },
      "source": [
        "model.compile(optimizer='adam', # change\n",
        "              loss='mean_squared_logarithmic_error', \n",
        "              metrics=['accuracy'])"
      ],
      "execution_count": null,
      "outputs": []
    },
    {
      "cell_type": "code",
      "metadata": {
        "id": "TLL3OHRyueoY"
      },
      "source": [
        "x_train = load(path_x + 'Train/' + 'x_train_' + Dimension + '_' + Size  + '.npy')\n",
        "x_validate = load(path_x + 'Validate/' + 'x_validate_' + Dimension + '_' + Size + '.npy')\n",
        "x_test = load(path_x + 'Test/' +  'x_test_' + Dimension + '_' + Size + '.npy')"
      ],
      "execution_count": null,
      "outputs": []
    },
    {
      "cell_type": "code",
      "metadata": {
        "id": "DYcbj-dqqWOv"
      },
      "source": [
        "def Create_model(points, epochs):\n",
        "  saved_list = []\n",
        "  for point in range(0, len(points)):\n",
        "    \n",
        "    train = genfromtxt(path + 'Train/' + points[point] + '_train' + '_' + Dimension + '_' + Size + '.csv', delimiter=\",\")\n",
        "    validate = genfromtxt(path + 'Validate/' + points[point] +'_Validate' + '_' + Dimension + '_' + Size + '.csv', delimiter=\",\")\n",
        "    test = genfromtxt(path + 'Test/' + points[point] + '_Test' + '_' + Dimension + '_' + Size + '.csv', delimiter=\",\")\n",
        "\n",
        "    model_bone = tf.keras.Model(pre_trained_model.input, x)\n",
        "    model_bone.summary()\n",
        "\n",
        "    model_bone.compile(optimizer='adam', # change\n",
        "              loss='mean_squared_logarithmic_error', \n",
        "              metrics=['accuracy'])\n",
        "\n",
        "    bone_history = model_bone.fit(x_train, train, epochs=epochs, batch_size= 128, verbose= 1, validation_data=(x_validate, validate), callbacks = [monitor_val_acc]) #, Expected_performance_acc\n",
        "\n",
        "    [z, y] = model_bone.evaluate(x_test, test,verbose=1)\n",
        "\n",
        "    model_bone.save(path_models  + points[point] + '_model_' + Type_Model + '_' + Size + '2.h5')\n",
        "    print(points[point] + '_model save')\n",
        "    saved_list.append(points[point])\n",
        "\n",
        "  print(saved_list)"
      ],
      "execution_count": null,
      "outputs": []
    },
    {
      "cell_type": "code",
      "metadata": {
        "id": "cidzxH3orTE1"
      },
      "source": [
        "list_joins = ['cero', 'one', 'two', 'three', 'four', 'five', 'six', 'seven', 'eight', 'nine', 'ten', 'eleven', 'twelve', 'thirteen', 'fourteen', 'fifteen', 'sixteen', 'seventeen', 'eighteen', 'nineteen', 'twenty']\n",
        "list_bones = ['Carpals_1', 'Metacarpals_1', 'Proxima_phalanges_1', 'Distal_phalanges_1', 'Metacarpals_2', 'Proxima_phalanges_2', 'Intermediate_phalanges_2', 'Distal_phalanges_2', 'Metacarpals_3', 'Proxima_phalanges_3', 'Intermediate_phalanges_3', 'Distal_phalanges_3', 'Metacarpals_4', 'Proxima_phalanges_4', 'Intermediate_phalanges_4', 'Distal_phalanges_4', 'Metacarpals_5', 'Proxima_phalanges_5', 'Intermediate_phalanges_5', 'Distal_phalanges_5']\n",
        "list_fingers = ['Thumb', 'Index_finger', 'Middle_finger', 'Ring_finger', 'Pinky']"
      ],
      "execution_count": null,
      "outputs": []
    },
    {
      "cell_type": "code",
      "metadata": {
        "id": "G3ycWbKNuU9P"
      },
      "source": [
        "Create_model(list_joins, 50)"
      ],
      "execution_count": null,
      "outputs": []
    }
  ]
}
