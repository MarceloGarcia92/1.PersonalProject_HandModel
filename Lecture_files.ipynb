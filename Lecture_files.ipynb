{
  "nbformat": 4,
  "nbformat_minor": 0,
  "metadata": {
    "colab": {
      "name": "Lecture_files.ipynb",
      "provenance": [],
      "authorship_tag": "ABX9TyM4m2RgYt9AZ3+IuYGoGc14",
      "include_colab_link": true
    },
    "kernelspec": {
      "name": "python3",
      "display_name": "Python 3"
    },
    "language_info": {
      "name": "python"
    },
    "accelerator": "GPU"
  },
  "cells": [
    {
      "cell_type": "markdown",
      "metadata": {
        "id": "view-in-github",
        "colab_type": "text"
      },
      "source": [
        "<a href=\"https://colab.research.google.com/github/MarceloGarcia92/1.PersonalProject_HandModel/blob/main/Lecture_files.ipynb\" target=\"_parent\"><img src=\"https://colab.research.google.com/assets/colab-badge.svg\" alt=\"Open In Colab\"/></a>"
      ]
    },
    {
      "cell_type": "code",
      "metadata": {
        "id": "_S9TugsJstEV"
      },
      "source": [
        "from google.colab import drive\n",
        "drive.mount('/content/drive')"
      ],
      "execution_count": null,
      "outputs": []
    },
    {
      "cell_type": "code",
      "metadata": {
        "id": "vnslxzgvtRRs"
      },
      "source": [
        "path = '/content/drive/MyDrive/3. Pose_Estimation_by_Putos/Videos'"
      ],
      "execution_count": 19,
      "outputs": []
    },
    {
      "cell_type": "code",
      "metadata": {
        "id": "Sx2jD1rjtWBn"
      },
      "source": [
        "#Libraries\n",
        "import os\n",
        "import pandas as pd\n",
        "import cv2\n",
        "import numpy as np"
      ],
      "execution_count": 20,
      "outputs": []
    },
    {
      "cell_type": "code",
      "metadata": {
        "id": "bHr3ijXHtUU-"
      },
      "source": [
        "list_lq = []\n",
        "\n",
        "for Video_Type in os.listdir(path + '/'):\n",
        "  if Video_Type == 'Escalada':\n",
        "    for fecha in os.listdir(path + '/' + Video_Type + '/'):  \n",
        "      try: \n",
        "        for videos in os.listdir(path + '/' + Video_Type + '/' + fecha + '/'):\n",
        "          Eje = videos.split('_')[0]\n",
        "          Number = (videos.split('_')[1]).split('.')[0]\n",
        "          video_path = path + '/' + Video_Type + '/' + fecha + '/' + videos\n",
        "          list_lq.append([Video_Type, fecha, videos, Eje, Number, video_path])\n",
        "          print(Video_Type, fecha, videos, Eje, Number, video_path)\n",
        "      except:\n",
        "        print(\"Change video name: \" + videos)\n",
        "\n",
        "df = pd.DataFrame(list_lq, columns=['Video_Type', 'fecha', 'video', 'Eje', 'Number', 'video_path'])"
      ],
      "execution_count": null,
      "outputs": []
    },
    {
      "cell_type": "code",
      "metadata": {
        "colab": {
          "base_uri": "https://localhost:8080/",
          "height": 135
        },
        "id": "JY68e94Ttiqw",
        "outputId": "2a003c52-d941-4f46-a6e3-8d0b62874962"
      },
      "source": [
        "# Dataframe by first (1) video compilation in 28/04/2021\n",
        "v_compilation_1 = df[(df['Number'] == '1') & (df['fecha'] == '28042021')]\n",
        "v_compilation_1"
      ],
      "execution_count": 22,
      "outputs": [
        {
          "output_type": "execute_result",
          "data": {
            "text/html": [
              "<div>\n",
              "<style scoped>\n",
              "    .dataframe tbody tr th:only-of-type {\n",
              "        vertical-align: middle;\n",
              "    }\n",
              "\n",
              "    .dataframe tbody tr th {\n",
              "        vertical-align: top;\n",
              "    }\n",
              "\n",
              "    .dataframe thead th {\n",
              "        text-align: right;\n",
              "    }\n",
              "</style>\n",
              "<table border=\"1\" class=\"dataframe\">\n",
              "  <thead>\n",
              "    <tr style=\"text-align: right;\">\n",
              "      <th></th>\n",
              "      <th>Video_Type</th>\n",
              "      <th>fecha</th>\n",
              "      <th>video</th>\n",
              "      <th>Eje</th>\n",
              "      <th>Number</th>\n",
              "      <th>video_path</th>\n",
              "    </tr>\n",
              "  </thead>\n",
              "  <tbody>\n",
              "    <tr>\n",
              "      <th>0</th>\n",
              "      <td>Escalada</td>\n",
              "      <td>28042021</td>\n",
              "      <td>Lateral_1.mp4</td>\n",
              "      <td>Lateral</td>\n",
              "      <td>1</td>\n",
              "      <td>/content/drive/MyDrive/3. Pose_Estimation_by_P...</td>\n",
              "    </tr>\n",
              "    <tr>\n",
              "      <th>1</th>\n",
              "      <td>Escalada</td>\n",
              "      <td>28042021</td>\n",
              "      <td>Frontal_1.mp4</td>\n",
              "      <td>Frontal</td>\n",
              "      <td>1</td>\n",
              "      <td>/content/drive/MyDrive/3. Pose_Estimation_by_P...</td>\n",
              "    </tr>\n",
              "    <tr>\n",
              "      <th>6</th>\n",
              "      <td>Escalada</td>\n",
              "      <td>28042021</td>\n",
              "      <td>Cabeza_1.MOV</td>\n",
              "      <td>Cabeza</td>\n",
              "      <td>1</td>\n",
              "      <td>/content/drive/MyDrive/3. Pose_Estimation_by_P...</td>\n",
              "    </tr>\n",
              "  </tbody>\n",
              "</table>\n",
              "</div>"
            ],
            "text/plain": [
              "  Video_Type  ...                                         video_path\n",
              "0   Escalada  ...  /content/drive/MyDrive/3. Pose_Estimation_by_P...\n",
              "1   Escalada  ...  /content/drive/MyDrive/3. Pose_Estimation_by_P...\n",
              "6   Escalada  ...  /content/drive/MyDrive/3. Pose_Estimation_by_P...\n",
              "\n",
              "[3 rows x 6 columns]"
            ]
          },
          "metadata": {
            "tags": []
          },
          "execution_count": 22
        }
      ]
    },
    {
      "cell_type": "code",
      "metadata": {
        "colab": {
          "base_uri": "https://localhost:8080/"
        },
        "id": "KWi8FAxGtlrw",
        "outputId": "1dc58848-ee21-4cba-cf31-113216aac672"
      },
      "source": [
        "v_compilation_1 = df['video_path'][1]\n",
        "print(v_compilation_1)"
      ],
      "execution_count": 23,
      "outputs": [
        {
          "output_type": "stream",
          "text": [
            "/content/drive/MyDrive/3. Pose_Estimation_by_Putos/Videos/Escalada/28042021/Frontal_1.mp4\n"
          ],
          "name": "stdout"
        }
      ]
    },
    {
      "cell_type": "code",
      "metadata": {
        "id": "OZxGiNortscX"
      },
      "source": [
        "list_array = []\n",
        "\n",
        "def video_to_array(video, list_array):\n",
        "  cap = cv2.VideoCapture(video)\n",
        "  x = 0\n",
        "\n",
        "  while(cap.isOpened() and len(list_array) < 5):\n",
        "      ret, frame = cap.read()\n",
        "      print(frame.shape)\n",
        "      x = x + 1 \n",
        "      if x > 0:\n",
        "        array_frame = np.array(frame)\n",
        "        list_array.append(array_frame)\n",
        "        print(len(list_array))\n",
        "      if cv2.waitKey(1) & 0xFF == ord('q'):\n",
        "        break\n",
        "\n",
        "  cap.release()\n",
        "  cv2.destroyAllWindows()\n",
        "\n",
        "  return list_array"
      ],
      "execution_count": 33,
      "outputs": []
    },
    {
      "cell_type": "code",
      "metadata": {
        "id": "1doE2WLVxInE"
      },
      "source": [
        "video_to_array(v_compilation_1, list_array)"
      ],
      "execution_count": null,
      "outputs": []
    },
    {
      "cell_type": "code",
      "metadata": {
        "colab": {
          "base_uri": "https://localhost:8080/"
        },
        "id": "wmv4s2Duw-RM",
        "outputId": "f8627d94-a7f2-477d-b0fa-5025cd9b7694"
      },
      "source": [
        "list_array = np.array(list_array)\n",
        "\n",
        "list_array.shape"
      ],
      "execution_count": 36,
      "outputs": [
        {
          "output_type": "execute_result",
          "data": {
            "text/plain": [
              "(5, 720, 1280, 3)"
            ]
          },
          "metadata": {
            "tags": []
          },
          "execution_count": 36
        }
      ]
    }
  ]
}