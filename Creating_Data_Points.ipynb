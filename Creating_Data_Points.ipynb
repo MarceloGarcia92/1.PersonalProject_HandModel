{
  "nbformat": 4,
  "nbformat_minor": 0,
  "metadata": {
    "language_info": {
      "codemirror_mode": {
        "name": "ipython",
        "version": 3
      },
      "file_extension": ".py",
      "mimetype": "text/x-python",
      "name": "python",
      "nbconvert_exporter": "python",
      "pygments_lexer": "ipython3",
      "version": "3.8.5-final"
    },
    "orig_nbformat": 2,
    "kernelspec": {
      "name": "python38564bita17b6bd34ca54ba199159ae8b83961eb",
      "display_name": "Python 3.8.5 64-bit",
      "language": "python"
    },
    "colab": {
      "name": "Data_Points_2D_160x160.ipynb",
      "provenance": [],
      "collapsed_sections": [],
      "include_colab_link": true
    }
  },
  "cells": [
    {
      "cell_type": "markdown",
      "metadata": {
        "id": "view-in-github",
        "colab_type": "text"
      },
      "source": [
        "<a href=\"https://colab.research.google.com/github/MarceloGarcia92/1.PersonalProject_HandModel/blob/main/Creating_Data_Points.ipynb\" target=\"_parent\"><img src=\"https://colab.research.google.com/assets/colab-badge.svg\" alt=\"Open In Colab\"/></a>"
      ]
    },
    {
      "cell_type": "code",
      "metadata": {
        "id": "mAmsHDy7J7Ge"
      },
      "source": [
        "import numpy as np\n",
        "import pandas as pd\n",
        "import json"
      ],
      "execution_count": null,
      "outputs": []
    },
    {
      "cell_type": "code",
      "metadata": {
        "id": "QxjBq9sVJ7Gl"
      },
      "source": [
        "from numpy import load\n",
        "\n",
        "dat_all = load('New_Points/Origin_Data/new_points_160x160.npy')"
      ],
      "execution_count": null,
      "outputs": []
    },
    {
      "cell_type": "code",
      "metadata": {
        "id": "lmV1XUHZJ7Gl"
      },
      "source": [
        "from PIL import Image\n",
        "import os"
      ],
      "execution_count": null,
      "outputs": []
    },
    {
      "cell_type": "code",
      "metadata": {
        "id": "nSqIJETleW6N"
      },
      "source": [
        "Dimension = '3D'\n",
        "#Dimension = '2D'\n",
        "\n",
        "Size = '160x160'\n",
        "#Size = '224x224'"
      ],
      "execution_count": null,
      "outputs": []
    },
    {
      "cell_type": "code",
      "metadata": {
        "id": "Ie0ZrHeeJ7Gm"
      },
      "source": [
        "path = '/home/ubuntu/Documents/1. Personal Project - Marcelo Garcia/AI_Project/Hand/Crop_Images_' + Size + '/'\n",
        "\n",
        "list_images = []\n",
        "\n",
        "for l in os.listdir(path):\n",
        "    list_images.append(l)\n",
        "    print('Image Processing:', l,' / Size:', Size, ' / Dimension:',Dimension)\n",
        "\n",
        "list_images.sort()"
      ],
      "execution_count": null,
      "outputs": []
    },
    {
      "cell_type": "code",
      "metadata": {
        "tags": [],
        "id": "RMhnDSZ6J7Gn"
      },
      "source": [
        "x_data = []\n",
        "\n",
        "\n",
        "if Dimension == '3D':\n",
        "    for j in list_images:\n",
        "        img = Image.open(path + j)\n",
        "        arr = np.array(img)\n",
        "        x_data.append(arr)\n",
        "        print('Image Processing:', j,' / Size:', Size, ' / Dimension:',Dimension)\n",
        "elif Dimension == '2D':\n",
        "    for j in list_images:\n",
        "        img = Image.open(path + j).convert('L')\n",
        "        arr = np.array(img)\n",
        "        x_data.append(arr)\n",
        "        print('Image Processing:', j,' / Size:', Size, ' / Dimension:',Dimension)\n",
        "else:\n",
        "    print('Select Dimension')\n",
        "\n",
        "x_data = np.array(x_data, dtype='float32')\n",
        "x_data.shape"
      ],
      "execution_count": null,
      "outputs": []
    },
    {
      "cell_type": "code",
      "metadata": {
        "id": "KMfGtZ4lJ7Go"
      },
      "source": [
        "import os\n",
        "import os.path\n",
        "import numpy as np\n",
        "import json\n",
        "import matplotlib\n",
        "import matplotlib.pyplot as plt\n",
        "\n",
        "%matplotlib inline\n",
        "plt.rcParams['figure.figsize'] = (20,20)\n",
        "plt.rcParams['image.interpolation'] = 'nearest'\n",
        "plt.rcParams['image.cmap'] = 'gray'\n",
        "\n",
        "edges = [[0,1],[1,2],[2,3],[3,4],[0,5],[5,6],[6,7],[7,8],[0,9],[9,10],[10,11],[11,12],[0,13],[13,14],[14,15],[15,16],[0,17],[17,18],[18,19],[19,20]]\n",
        "\n",
        "outpath = './output_viz/'\n",
        "if not os.path.isdir(outpath):\n",
        "    os.makedirs(outpath)\n",
        "\n",
        "q = 500\n",
        "pts = np.array(dat_all[q])\n",
        "invalid = pts[:,2]!=1\n",
        "\n",
        "plt.clf()\n",
        "img = Image.fromarray(x_data[q])\n",
        "plt.imshow(img)\n",
        "\n",
        "for p in range(pts.shape[0]):\n",
        "    if pts[p,2]!=0:\n",
        "        plt.plot(pts[p,0], pts[p,1],'r.')\n",
        "        plt.text(pts[p,0], pts[p,1], '{0}'.format(p))\n",
        "for ie, e in enumerate(edges):\n",
        "    if np.all(pts[e,2]!=0):\n",
        "        rgb = matplotlib.colors.hsv_to_rgb([ie/float(len(edges)),1.0,1.0])\n",
        "        plt.plot(pts[e,0],pts[e,1],color=rgb)\n",
        "plt.axis('off')"
      ],
      "execution_count": null,
      "outputs": []
    },
    {
      "cell_type": "code",
      "metadata": {
        "id": "xnGdj9sGJ7Gp"
      },
      "source": [
        "import keras\n",
        "from keras.utils import to_categorical"
      ],
      "execution_count": null,
      "outputs": []
    },
    {
      "cell_type": "code",
      "metadata": {
        "id": "57cmzuU0J7Gq"
      },
      "source": [
        "data_points = []\n",
        "\n",
        "for x in range(0, len(dat_all)):\n",
        "  iterator = dat_all[x]\n",
        "  data_points.append(iterator)"
      ],
      "execution_count": null,
      "outputs": []
    },
    {
      "cell_type": "code",
      "metadata": {
        "id": "veXJQxVOJ7Gq",
        "outputId": "216ac2f8-09d0-4431-c32f-d4e3e1f6a8bb"
      },
      "source": [
        "y_data = np.array(data_points)\n",
        "print(y_data.shape)"
      ],
      "execution_count": null,
      "outputs": [
        {
          "output_type": "stream",
          "text": [
            "(14817, 21, 2)\n"
          ],
          "name": "stdout"
        }
      ]
    },
    {
      "cell_type": "code",
      "metadata": {
        "id": "dEfFFbSQJ7Gq"
      },
      "source": [
        "x_data /= 255"
      ],
      "execution_count": null,
      "outputs": []
    },
    {
      "cell_type": "code",
      "metadata": {
        "id": "TElaC6EWJ7Gr"
      },
      "source": [
        "from sklearn.model_selection import train_test_split\n",
        "\n",
        "x_train,x_further,y_train,y_further = train_test_split(x_data,y_data,test_size = 0.2)\n",
        "x_validate,x_test,y_validate,y_test = train_test_split(x_further,y_further,test_size = 0.5)"
      ],
      "execution_count": null,
      "outputs": []
    },
    {
      "cell_type": "code",
      "metadata": {
        "id": "R5N51AZ_J7Gr",
        "outputId": "1f2d8a39-6a8f-4a7a-ce8e-c1182689f765"
      },
      "source": [
        "print(x_train.shape, y_train.shape)\n",
        "print(x_test.shape, y_test.shape)\n",
        "print(x_validate.shape, y_validate.shape)"
      ],
      "execution_count": null,
      "outputs": [
        {
          "output_type": "stream",
          "text": [
            "(11853, 160, 160, 3) (11853, 21, 2)\n",
            "(1482, 160, 160, 3) (1482, 21, 2)\n",
            "(1482, 160, 160, 3) (1482, 21, 2)\n"
          ],
          "name": "stdout"
        }
      ]
    },
    {
      "cell_type": "code",
      "metadata": {
        "id": "mGPF0tteeW6V",
        "outputId": "65454d0f-00d1-490d-997e-f7d8dfa2cdbf"
      },
      "source": [
        "print('New_Points/Test/x_test_' + Dimension + '_' + Size + '.npy')"
      ],
      "execution_count": null,
      "outputs": [
        {
          "output_type": "stream",
          "text": [
            "New_Points/Test/x_test_3D_160x160.npy\n"
          ],
          "name": "stdout"
        }
      ]
    },
    {
      "cell_type": "code",
      "metadata": {
        "id": "L0wL42G1eW6V"
      },
      "source": [
        "from numpy import save\n",
        "\n",
        "save('New_Points/Test/x_test_' + Dimension + '_' + Size + '.npy', x_test)\n",
        "save('New_Points/Train/x_train_' + Dimension + '_' + Size + '.npy', x_train)\n",
        "save('New_Points/Validate/x_validate_' + Dimension + '_' + Size + '.npy', x_validate)\n",
        "\n",
        "save('New_Points/Test/y_test_' + Dimension + '_' + Size + '.npy', y_test)\n",
        "save('New_Points/Train/y_train_' + Dimension + '_' + Size + '.npy', y_train)\n",
        "save('New_Points/Validate/y_validate_' + Dimension + '_' + Size + '.npy', y_validate)"
      ],
      "execution_count": null,
      "outputs": []
    },
    {
      "cell_type": "code",
      "metadata": {
        "id": "nNYcTIjOeW6V"
      },
      "source": [
        "list_joins = ['cero', 'one', 'two', 'three', 'four', 'five', 'six', 'seven', 'eight', 'nine', 'ten', 'eleven', 'twelve', 'thirteen', 'fourteen', 'fifteen', 'sixteen', 'seventeen', 'eighteen', 'nineteen', 'twenty']\n",
        "edges_joins = [[0],[1],[2],[3],[4],[5],[6],[7],[8],[9],[10],[11],[12],[13],[14],[15],[16],[17],[18],[19],[20]]\n",
        "\n",
        "list_bones = ['Carpals_1', 'Metacarpals_1', 'Proxima_phalanges_1', 'Distal_phalanges_1', 'Metacarpals_2', 'Proxima_phalanges_2', 'Intermediate_phalanges_2', 'Distal_phalanges_2', 'Metacarpals_3', 'Proxima_phalanges_3', 'Intermediate_phalanges_3', 'Distal_phalanges_3', 'Metacarpals_4', 'Proxima_phalanges_4', 'Intermediate_phalanges_4', 'Distal_phalanges_4', 'Metacarpals_5', 'Proxima_phalanges_5', 'Intermediate_phalanges_5', 'Distal_phalanges_5']\n",
        "edges_bones = [[0,1],[1,2],[2,3],[3,4],[0,5],[5,6],[6,7],[7,8],[0,9],[9,10],[10,11],[11,12],[0,13],[13,14],[14,15],[15,16],[0,17],[17,18],[18,19],[19,20]]\n",
        "\n",
        "\n",
        "list_fingers = ['Thumb', 'Index_finger', 'Middle_finger', 'Ring_finger', 'Pinky']\n",
        "edges_fingers = [[0,1,2,3,4],[0,5,6,7,8],[0,9,10,11,12],[0,13,14,15,16],[0,17,18,19,20]]\n",
        "\n",
        "\n",
        "list_hand = ['hand']\n",
        "edge_hand = [0,1,2,3,4,5,6,7,8,9,10,11,12,13,14,15,16,17,18,19,20]"
      ],
      "execution_count": null,
      "outputs": []
    },
    {
      "cell_type": "code",
      "metadata": {
        "id": "QY8SxjgheW6W"
      },
      "source": [
        "# 1: Number of Labels \n",
        "# 2: List of the name of the Labels\n",
        "# 3: Conexion to the points\n",
        "\n",
        "List_Labels = {'Joins': [2, list_joins, edges_joins], 'Bones': [4, list_bones, edges_bones], 'Fingers': [10, list_fingers, edges_fingers], 'hand': [21, list_hand, edge_hand]}"
      ],
      "execution_count": null,
      "outputs": []
    },
    {
      "cell_type": "code",
      "metadata": {
        "id": "1-En6-uyeW6W"
      },
      "source": [
        "list_set = {'Train': y_train, 'Test': y_test, 'Validate': y_validate}\n",
        "list_reg = ['Train', 'Test', 'Validate']"
      ],
      "execution_count": null,
      "outputs": []
    },
    {
      "cell_type": "code",
      "metadata": {
        "id": "kp8nd-70eW6W",
        "outputId": "a108c79e-227b-4fc8-c935-2d5c4d78f560"
      },
      "source": [
        "List_Labels[Labels][1][label]"
      ],
      "execution_count": null,
      "outputs": [
        {
          "output_type": "execute_result",
          "data": {
            "text/plain": [
              "'Proxima_phalanges_2'"
            ]
          },
          "metadata": {
            "tags": []
          },
          "execution_count": 334
        }
      ]
    },
    {
      "cell_type": "code",
      "metadata": {
        "id": "XFkXwteIeW6W",
        "outputId": "91af8940-8311-4a88-efd3-3e52a98355d5"
      },
      "source": [
        "Set = 0\n",
        "\n",
        "print('New_Points/' + list_reg[Set] + '/' + List_Labels[Labels][1][label] + '_' + list_reg[Set] + '_' + Dimension + '_' + Size + '.csv')"
      ],
      "execution_count": null,
      "outputs": [
        {
          "output_type": "stream",
          "text": [
            "New_Points/Train/Proxima_phalanges_2_Train_3D_160x160.csv\n"
          ],
          "name": "stdout"
        }
      ]
    },
    {
      "cell_type": "code",
      "metadata": {
        "id": "Y_t_BparJ7Gr"
      },
      "source": [
        "def Creation_Labels(Labels):\n",
        "  \n",
        "  for Set in range(len(list_reg)):\n",
        "\n",
        "    Label_set = list_set[list_reg[Set]]\n",
        "    \n",
        "    for label in range(len(List_Labels[Labels][1])):\n",
        "       \n",
        "      List_set = []\n",
        "\n",
        "      for num_records in range(0, len(Label_set)):\n",
        "        \n",
        "        iterator_x = Label_set[num_records][List_Labels[Labels][2][0][0]][0]\n",
        "        iterator_y = Label_set[num_records][List_Labels[Labels][2][0][0]][1]\n",
        "        List_set.append([iterator_x, iterator_y])\n",
        "\n",
        "    \n",
        "        if len(List_Labels[Labels][1][0]) > 2:\n",
        "            \n",
        "            for num_records_greater in range(len(List_Labels[Labels][2][0])-1):\n",
        "              iterator_x_x = Label_set[num_records][List_Labels[Labels][2][0][num_records_greater] + 1][0]\n",
        "              iterator_y_y = Label_set[num_records][List_Labels[Labels][2][0][num_records_greater] + 1][1]\n",
        "              plus_label = (iterator_x_x, iterator_y_y)\n",
        "                \n",
        "              List_set[num_records].extend(plus_label)\n",
        "        else:\n",
        "          continue\n",
        "\n",
        "      List_set = np.array(List_set)\n",
        "      print('selected set:', list_reg[Set], '/shape CSV:', List_set.shape, '/shape Label:', List_Labels[Labels][1][label])\n",
        "  \n",
        "      List_set = np.savetxt('New_Points/' + list_reg[Set] + '/' + Labels + '/' + 'Try_' +List_Labels[Labels][1][label] + '_' + list_reg[Set] + '_' + Dimension + '_' + Size + '.csv', List_set, delimiter=\",\")\n",
        "      \n",
        "      "
      ],
      "execution_count": null,
      "outputs": []
    },
    {
      "cell_type": "code",
      "metadata": {
        "id": "AJxxtLt-J7Gr"
      },
      "source": [
        "Creation_Labels('Joins')  "
      ],
      "execution_count": null,
      "outputs": []
    }
  ]
}